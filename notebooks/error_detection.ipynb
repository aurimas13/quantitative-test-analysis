import pandas as pd
import numpy as np
import matplotlib.pyplot as plt
import seaborn as sns

# Load dataset
file_path = "../data/Test.xlsx"  # Replace with actual dataset path
df = pd.read_excel(file_path)
df.columns = df.columns.str.strip()

df['Date'] = pd.to_datetime(df['Date'])
df.sort_values(by=['P_Ticker', 'Date'], inplace=True)

# Detect Price Anomalies
price_threshold = 20  # Percentage change threshold
df['Prev_Price'] = df.groupby('P_Ticker')['Price'].shift(1)
df['Price_Change_%'] = ((df['Price'] - df['Prev_Price']) / df['Prev_Price']) * 100
price_anomalies = df[abs(df['Price_Change_%']) > price_threshold]

# Detect Quantity Changes Without Trade Records
df['Prev_Close_Quantity'] = df.groupby('P_Ticker')['Close Quantity'].shift(1)
df['Quantity_Change'] = df['Open Quantity'] - df['Prev_Close_Quantity']
missing_trades = df[(df['Quantity_Change'] != 0) & (df['Prev_Close_Quantity'].notna())]

# Visualizing Price Anomalies
plt.figure(figsize=(12, 6))
sns.histplot(df['Price_Change_%'].dropna(), bins=50, kde=True)
plt.axvline(price_threshold, color='r', linestyle='--', label='+20% Threshold')
plt.axvline(-price_threshold, color='r', linestyle='--', label='-20% Threshold')
plt.title("Distribution of Price Changes")
plt.legend()
plt.show()

# Summary of Findings
summary = {
    "Total Price Anomalies": len(price_anomalies),
    "Total Missing Trade Records": len(missing_trades),
}

summary

